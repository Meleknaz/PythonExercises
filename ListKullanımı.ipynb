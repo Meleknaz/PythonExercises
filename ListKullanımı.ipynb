{
 "cells": [
  {
   "cell_type": "markdown",
   "id": "circular-edition",
   "metadata": {},
   "source": [
    "#Liste veri yapısı kullanımı örnekleri"
   ]
  },
  {
   "cell_type": "markdown",
   "id": "closed-jacket",
   "metadata": {},
   "source": [
    "Listelerin 2 farklı şekilde de gösterilir."
   ]
  },
  {
   "cell_type": "code",
   "execution_count": 1,
   "id": "ruled-configuration",
   "metadata": {},
   "outputs": [],
   "source": [
    "liste = []\n",
    "# liste = list()"
   ]
  },
  {
   "cell_type": "markdown",
   "id": "printable-michigan",
   "metadata": {},
   "source": [
    "List metodlarına ulaşmak için dir() içerisine class'ın ismini yada nesnenin ismini yazmamız yeterlidir."
   ]
  },
  {
   "cell_type": "code",
   "execution_count": 2,
   "id": "relative-symbol",
   "metadata": {},
   "outputs": [
    {
     "data": {
      "text/plain": [
       "['__add__',\n",
       " '__class__',\n",
       " '__contains__',\n",
       " '__delattr__',\n",
       " '__delitem__',\n",
       " '__dir__',\n",
       " '__doc__',\n",
       " '__eq__',\n",
       " '__format__',\n",
       " '__ge__',\n",
       " '__getattribute__',\n",
       " '__getitem__',\n",
       " '__gt__',\n",
       " '__hash__',\n",
       " '__iadd__',\n",
       " '__imul__',\n",
       " '__init__',\n",
       " '__init_subclass__',\n",
       " '__iter__',\n",
       " '__le__',\n",
       " '__len__',\n",
       " '__lt__',\n",
       " '__mul__',\n",
       " '__ne__',\n",
       " '__new__',\n",
       " '__reduce__',\n",
       " '__reduce_ex__',\n",
       " '__repr__',\n",
       " '__reversed__',\n",
       " '__rmul__',\n",
       " '__setattr__',\n",
       " '__setitem__',\n",
       " '__sizeof__',\n",
       " '__str__',\n",
       " '__subclasshook__',\n",
       " 'append',\n",
       " 'clear',\n",
       " 'copy',\n",
       " 'count',\n",
       " 'extend',\n",
       " 'index',\n",
       " 'insert',\n",
       " 'pop',\n",
       " 'remove',\n",
       " 'reverse',\n",
       " 'sort']"
      ]
     },
     "execution_count": 2,
     "metadata": {},
     "output_type": "execute_result"
    }
   ],
   "source": [
    "dir(liste)\n",
    "#dir(list())"
   ]
  },
  {
   "cell_type": "markdown",
   "id": "signal-agent",
   "metadata": {},
   "source": [
    "ilk harfi alt çizgi(_) olmayan metodları listelemek"
   ]
  },
  {
   "cell_type": "code",
   "execution_count": 6,
   "id": "manufactured-timeline",
   "metadata": {},
   "outputs": [
    {
     "name": "stdout",
     "output_type": "stream",
     "text": [
      "append\n",
      "clear\n",
      "copy\n",
      "count\n",
      "extend\n",
      "index\n",
      "insert\n",
      "pop\n",
      "remove\n",
      "reverse\n",
      "sort\n"
     ]
    }
   ],
   "source": [
    "for i in dir(liste):\n",
    "    if i[0] != '_':\n",
    "        print(i)"
   ]
  },
  {
   "cell_type": "markdown",
   "id": "formal-reason",
   "metadata": {},
   "source": [
    "append() :listeye birşey eklemek için append() metodu ya da + operatorü kullanımı"
   ]
  },
  {
   "cell_type": "code",
   "execution_count": 17,
   "id": "senior-robertson",
   "metadata": {},
   "outputs": [],
   "source": [
    "liste.append(\"Melek\")\n",
    "#liste += [\"Melek\"]"
   ]
  },
  {
   "cell_type": "code",
   "execution_count": 18,
   "id": "automotive-oliver",
   "metadata": {},
   "outputs": [
    {
     "data": {
      "text/plain": [
       "['Melek']"
      ]
     },
     "execution_count": 18,
     "metadata": {},
     "output_type": "execute_result"
    }
   ],
   "source": [
    "liste"
   ]
  },
  {
   "cell_type": "code",
   "execution_count": 19,
   "id": "earned-hardwood",
   "metadata": {},
   "outputs": [],
   "source": [
    "liste += [\"naz\"]"
   ]
  },
  {
   "cell_type": "code",
   "execution_count": 20,
   "id": "corresponding-bridal",
   "metadata": {},
   "outputs": [
    {
     "data": {
      "text/plain": [
       "['Melek', 'naz']"
      ]
     },
     "execution_count": 20,
     "metadata": {},
     "output_type": "execute_result"
    }
   ],
   "source": [
    "liste"
   ]
  },
  {
   "cell_type": "markdown",
   "id": "extended-hollywood",
   "metadata": {},
   "source": [
    "index() :herhangi bie ögenin listedeki kaçıncı eleman olduğunu bulma - index numarasını alma\n"
   ]
  },
  {
   "cell_type": "code",
   "execution_count": 22,
   "id": "brief-wheel",
   "metadata": {},
   "outputs": [
    {
     "data": {
      "text/plain": [
       "1"
      ]
     },
     "execution_count": 22,
     "metadata": {},
     "output_type": "execute_result"
    }
   ],
   "source": [
    "liste.index(\"naz\")"
   ]
  },
  {
   "cell_type": "code",
   "execution_count": 23,
   "id": "following-enhancement",
   "metadata": {},
   "outputs": [
    {
     "data": {
      "text/plain": [
       "0"
      ]
     },
     "execution_count": 23,
     "metadata": {},
     "output_type": "execute_result"
    }
   ],
   "source": [
    "liste.index(\"Melek\")"
   ]
  },
  {
   "cell_type": "markdown",
   "id": "eligible-singapore",
   "metadata": {},
   "source": [
    "listede olmayan bir elemanın index numarasını almaya çalışırsak hata alırız"
   ]
  },
  {
   "cell_type": "code",
   "execution_count": 24,
   "id": "rocky-manufacturer",
   "metadata": {},
   "outputs": [
    {
     "ename": "ValueError",
     "evalue": "'Meleknaz' is not in list",
     "output_type": "error",
     "traceback": [
      "\u001b[1;31m---------------------------------------------------------------------------\u001b[0m",
      "\u001b[1;31mValueError\u001b[0m                                Traceback (most recent call last)",
      "\u001b[1;32m<ipython-input-24-724c97e5c7bc>\u001b[0m in \u001b[0;36m<module>\u001b[1;34m\u001b[0m\n\u001b[1;32m----> 1\u001b[1;33m \u001b[0mliste\u001b[0m\u001b[1;33m.\u001b[0m\u001b[0mindex\u001b[0m\u001b[1;33m(\u001b[0m\u001b[1;34m\"Meleknaz\"\u001b[0m\u001b[1;33m)\u001b[0m\u001b[1;33m\u001b[0m\u001b[1;33m\u001b[0m\u001b[0m\n\u001b[0m",
      "\u001b[1;31mValueError\u001b[0m: 'Meleknaz' is not in list"
     ]
    }
   ],
   "source": [
    "liste.index(\"Meleknaz\")"
   ]
  },
  {
   "cell_type": "markdown",
   "id": "protecting-prayer",
   "metadata": {},
   "source": [
    "append() : listeye string veya numeric elemanlar ekleme yapılabilir"
   ]
  },
  {
   "cell_type": "code",
   "execution_count": 25,
   "id": "treated-possession",
   "metadata": {},
   "outputs": [],
   "source": [
    "liste.append(\"8\")"
   ]
  },
  {
   "cell_type": "code",
   "execution_count": 26,
   "id": "rental-money",
   "metadata": {},
   "outputs": [
    {
     "data": {
      "text/plain": [
       "['Melek', 'naz', '8']"
      ]
     },
     "execution_count": 26,
     "metadata": {},
     "output_type": "execute_result"
    }
   ],
   "source": [
    "liste"
   ]
  },
  {
   "cell_type": "markdown",
   "id": "expressed-insulation",
   "metadata": {},
   "source": [
    "count() :listede bulunan elemanın listedeki tekrar sayısını veriyor"
   ]
  },
  {
   "cell_type": "code",
   "execution_count": 27,
   "id": "controversial-seeking",
   "metadata": {},
   "outputs": [],
   "source": [
    "liste.append(\"Melek\")"
   ]
  },
  {
   "cell_type": "code",
   "execution_count": 28,
   "id": "protecting-encounter",
   "metadata": {},
   "outputs": [
    {
     "data": {
      "text/plain": [
       "['Melek', 'naz', '8', 'Melek']"
      ]
     },
     "execution_count": 28,
     "metadata": {},
     "output_type": "execute_result"
    }
   ],
   "source": [
    "liste"
   ]
  },
  {
   "cell_type": "code",
   "execution_count": 29,
   "id": "anonymous-chuck",
   "metadata": {},
   "outputs": [
    {
     "data": {
      "text/plain": [
       "2"
      ]
     },
     "execution_count": 29,
     "metadata": {},
     "output_type": "execute_result"
    }
   ],
   "source": [
    "liste.count(\"Melek\")"
   ]
  },
  {
   "cell_type": "code",
   "execution_count": 30,
   "id": "optimum-establishment",
   "metadata": {},
   "outputs": [],
   "source": [
    "liste.append(\"melek\")"
   ]
  },
  {
   "cell_type": "code",
   "execution_count": 31,
   "id": "colonial-equation",
   "metadata": {},
   "outputs": [
    {
     "data": {
      "text/plain": [
       "['Melek', 'naz', '8', 'Melek', 'melek']"
      ]
     },
     "execution_count": 31,
     "metadata": {},
     "output_type": "execute_result"
    }
   ],
   "source": [
    "liste"
   ]
  },
  {
   "cell_type": "code",
   "execution_count": 32,
   "id": "korean-exhibition",
   "metadata": {},
   "outputs": [
    {
     "data": {
      "text/plain": [
       "1"
      ]
     },
     "execution_count": 32,
     "metadata": {},
     "output_type": "execute_result"
    }
   ],
   "source": [
    "liste.count(\"melek\")"
   ]
  },
  {
   "cell_type": "markdown",
   "id": "southwest-conviction",
   "metadata": {},
   "source": [
    "len() :listedeki toplam eleman sayısını bulur-length"
   ]
  },
  {
   "cell_type": "code",
   "execution_count": 33,
   "id": "supported-opposition",
   "metadata": {},
   "outputs": [
    {
     "data": {
      "text/plain": [
       "5"
      ]
     },
     "execution_count": 33,
     "metadata": {},
     "output_type": "execute_result"
    }
   ],
   "source": [
    "len(liste)"
   ]
  },
  {
   "cell_type": "markdown",
   "id": "horizontal-placement",
   "metadata": {},
   "source": [
    "listedeki her elemanın 2 index numarası bulunur yani ilk eleman hem 0. hemde -1. index dir."
   ]
  },
  {
   "cell_type": "code",
   "execution_count": 34,
   "id": "infectious-austin",
   "metadata": {},
   "outputs": [
    {
     "data": {
      "text/plain": [
       "'Melek'"
      ]
     },
     "execution_count": 34,
     "metadata": {},
     "output_type": "execute_result"
    }
   ],
   "source": [
    "liste[-5]"
   ]
  },
  {
   "cell_type": "code",
   "execution_count": 35,
   "id": "vital-compromise",
   "metadata": {},
   "outputs": [
    {
     "data": {
      "text/plain": [
       "'Melek'"
      ]
     },
     "execution_count": 35,
     "metadata": {},
     "output_type": "execute_result"
    }
   ],
   "source": [
    "liste[0]"
   ]
  },
  {
   "cell_type": "markdown",
   "id": "loved-floor",
   "metadata": {},
   "source": [
    "her elemanın 2 index numarası olması özelliğini kullanarak da toplam eleman sayısını len() metodunu kullanmadan bulabiliriz"
   ]
  },
  {
   "cell_type": "code",
   "execution_count": 36,
   "id": "acoustic-camel",
   "metadata": {},
   "outputs": [
    {
     "data": {
      "text/plain": [
       "5"
      ]
     },
     "execution_count": 36,
     "metadata": {},
     "output_type": "execute_result"
    }
   ],
   "source": [
    "liste.index(liste[-1]) +1"
   ]
  },
  {
   "cell_type": "markdown",
   "id": "speaking-accreditation",
   "metadata": {},
   "source": [
    "listeden eleman çıkarma işlemleri\n",
    "pop() : bu metod ile listenin son eleamanını listeden çıkarmış oluruz - son eleman return edildiği için listeden çıkarıldığında ekrana geliyor "
   ]
  },
  {
   "cell_type": "code",
   "execution_count": 37,
   "id": "prepared-packaging",
   "metadata": {},
   "outputs": [
    {
     "data": {
      "text/plain": [
       "['Melek', 'naz', '8', 'Melek', 'melek']"
      ]
     },
     "execution_count": 37,
     "metadata": {},
     "output_type": "execute_result"
    }
   ],
   "source": [
    "liste"
   ]
  },
  {
   "cell_type": "code",
   "execution_count": 38,
   "id": "fancy-tragedy",
   "metadata": {},
   "outputs": [
    {
     "data": {
      "text/plain": [
       "'melek'"
      ]
     },
     "execution_count": 38,
     "metadata": {},
     "output_type": "execute_result"
    }
   ],
   "source": [
    "liste.pop()"
   ]
  },
  {
   "cell_type": "code",
   "execution_count": 39,
   "id": "exclusive-glass",
   "metadata": {},
   "outputs": [
    {
     "data": {
      "text/plain": [
       "['Melek', 'naz', '8', 'Melek']"
      ]
     },
     "execution_count": 39,
     "metadata": {},
     "output_type": "execute_result"
    }
   ],
   "source": [
    "liste"
   ]
  },
  {
   "cell_type": "markdown",
   "id": "according-culture",
   "metadata": {},
   "source": [
    "remove() :bu metod ile listeden eleman silerken siliceğimiz ögeyi belirtmemiz gerekir, ayrıca bu metod eleman silerken ekrana herhangi birşey yazmaz"
   ]
  },
  {
   "cell_type": "code",
   "execution_count": 40,
   "id": "electric-lease",
   "metadata": {},
   "outputs": [
    {
     "data": {
      "text/plain": [
       "['Melek', 'naz', '8', 'Melek']"
      ]
     },
     "execution_count": 40,
     "metadata": {},
     "output_type": "execute_result"
    }
   ],
   "source": [
    "liste"
   ]
  },
  {
   "cell_type": "code",
   "execution_count": 41,
   "id": "yellow-suffering",
   "metadata": {},
   "outputs": [],
   "source": [
    "liste.remove(\"Melek\")"
   ]
  },
  {
   "cell_type": "code",
   "execution_count": 42,
   "id": "offensive-stick",
   "metadata": {},
   "outputs": [
    {
     "data": {
      "text/plain": [
       "['naz', '8', 'Melek']"
      ]
     },
     "execution_count": 42,
     "metadata": {},
     "output_type": "execute_result"
    }
   ],
   "source": [
    "liste"
   ]
  },
  {
   "cell_type": "markdown",
   "id": "nominated-conditions",
   "metadata": {},
   "source": [
    "copy() :değişkenlerde x=y şeklinde atama işlemi yaptığımızda x'e y'nin işaret ettiği yerdeki eleman atanır, x ve y üzerinde işlem yapıldığınde herhangi bir etkileşim bağlantı olmaz ayrı iki değişken olarak devam ederler aynı işlem class ile yapıldığında farklı sonuç verir. Yani x ve y class ise x=y işleminden sonra x ile y aynı özellikleri gösteren aynı class lardır.Bu yüzden class ifadelerinde copy() metodu kullanılır"
   ]
  },
  {
   "cell_type": "code",
   "execution_count": 43,
   "id": "apart-module",
   "metadata": {},
   "outputs": [
    {
     "data": {
      "text/plain": [
       "5"
      ]
     },
     "execution_count": 43,
     "metadata": {},
     "output_type": "execute_result"
    }
   ],
   "source": [
    "# x ve y değişkenlerinde yaptığımız bu işlemle ynin değerini 5 yaparız\n",
    "x = 5\n",
    "y = x\n",
    "y"
   ]
  },
  {
   "cell_type": "code",
   "execution_count": 44,
   "id": "stylish-first",
   "metadata": {},
   "outputs": [],
   "source": [
    "#fakat x ile y arasında hiçbir bağlantı olmaz"
   ]
  },
  {
   "cell_type": "code",
   "execution_count": 45,
   "id": "configured-joint",
   "metadata": {},
   "outputs": [
    {
     "data": {
      "text/plain": [
       "140703664415248"
      ]
     },
     "execution_count": 45,
     "metadata": {},
     "output_type": "execute_result"
    }
   ],
   "source": [
    "id(x)"
   ]
  },
  {
   "cell_type": "code",
   "execution_count": 46,
   "id": "preliminary-compensation",
   "metadata": {},
   "outputs": [
    {
     "data": {
      "text/plain": [
       "140703664415248"
      ]
     },
     "execution_count": 46,
     "metadata": {},
     "output_type": "execute_result"
    }
   ],
   "source": [
    "id(y)"
   ]
  },
  {
   "cell_type": "code",
   "execution_count": 47,
   "id": "committed-partition",
   "metadata": {},
   "outputs": [],
   "source": [
    "#hafızadaki aynı konumu işaret edttikleri için id leri aynıdır fakat y nin elemanını değiştirisek ya da x in, id leride değişir"
   ]
  },
  {
   "cell_type": "code",
   "execution_count": 48,
   "id": "frank-parent",
   "metadata": {},
   "outputs": [],
   "source": [
    "y=8"
   ]
  },
  {
   "cell_type": "code",
   "execution_count": 49,
   "id": "caring-pickup",
   "metadata": {},
   "outputs": [
    {
     "data": {
      "text/plain": [
       "140703664415344"
      ]
     },
     "execution_count": 49,
     "metadata": {},
     "output_type": "execute_result"
    }
   ],
   "source": [
    "id(y)"
   ]
  },
  {
   "cell_type": "code",
   "execution_count": 50,
   "id": "finite-austria",
   "metadata": {},
   "outputs": [
    {
     "data": {
      "text/plain": [
       "140703664415248"
      ]
     },
     "execution_count": 50,
     "metadata": {},
     "output_type": "execute_result"
    }
   ],
   "source": [
    "id(x)"
   ]
  },
  {
   "cell_type": "code",
   "execution_count": 51,
   "id": "accredited-defendant",
   "metadata": {},
   "outputs": [],
   "source": [
    "#ama bu durum class lar için aynı değildir"
   ]
  },
  {
   "cell_type": "code",
   "execution_count": 52,
   "id": "favorite-grave",
   "metadata": {},
   "outputs": [],
   "source": [
    "#bu sefer x'i bir class olarak tanımlarsak ve işlemleri tekrarlarsak sonuç değişecektir\n",
    "x = list()\n",
    "x.append(\"meleknaz\")"
   ]
  },
  {
   "cell_type": "code",
   "execution_count": 53,
   "id": "exposed-replication",
   "metadata": {},
   "outputs": [],
   "source": [
    "y = x"
   ]
  },
  {
   "cell_type": "code",
   "execution_count": 54,
   "id": "split-float",
   "metadata": {},
   "outputs": [
    {
     "data": {
      "text/plain": [
       "['meleknaz']"
      ]
     },
     "execution_count": 54,
     "metadata": {},
     "output_type": "execute_result"
    }
   ],
   "source": [
    "x"
   ]
  },
  {
   "cell_type": "code",
   "execution_count": 55,
   "id": "micro-instrument",
   "metadata": {},
   "outputs": [
    {
     "data": {
      "text/plain": [
       "['meleknaz']"
      ]
     },
     "execution_count": 55,
     "metadata": {},
     "output_type": "execute_result"
    }
   ],
   "source": [
    "y"
   ]
  },
  {
   "cell_type": "code",
   "execution_count": 56,
   "id": "conceptual-internship",
   "metadata": {},
   "outputs": [],
   "source": [
    "#şimdi sadece x e ekleme işlemi yapıp y ye değişiklik yapmassak, ynin de x ile birlikte değiştiğini gözlemlicez"
   ]
  },
  {
   "cell_type": "code",
   "execution_count": 57,
   "id": "packed-haven",
   "metadata": {},
   "outputs": [],
   "source": [
    "x.append(\"8\")"
   ]
  },
  {
   "cell_type": "code",
   "execution_count": 58,
   "id": "strange-repair",
   "metadata": {},
   "outputs": [
    {
     "data": {
      "text/plain": [
       "['meleknaz', '8']"
      ]
     },
     "execution_count": 58,
     "metadata": {},
     "output_type": "execute_result"
    }
   ],
   "source": [
    "x"
   ]
  },
  {
   "cell_type": "code",
   "execution_count": 59,
   "id": "eight-command",
   "metadata": {},
   "outputs": [
    {
     "data": {
      "text/plain": [
       "['meleknaz', '8']"
      ]
     },
     "execution_count": 59,
     "metadata": {},
     "output_type": "execute_result"
    }
   ],
   "source": [
    "y"
   ]
  },
  {
   "cell_type": "code",
   "execution_count": 60,
   "id": "fifth-framing",
   "metadata": {},
   "outputs": [
    {
     "data": {
      "text/plain": [
       "2961463884104"
      ]
     },
     "execution_count": 60,
     "metadata": {},
     "output_type": "execute_result"
    }
   ],
   "source": [
    "id(x)"
   ]
  },
  {
   "cell_type": "code",
   "execution_count": 61,
   "id": "handed-hartford",
   "metadata": {},
   "outputs": [
    {
     "data": {
      "text/plain": [
       "2961463884104"
      ]
     },
     "execution_count": 61,
     "metadata": {},
     "output_type": "execute_result"
    }
   ],
   "source": [
    "id(y)"
   ]
  },
  {
   "cell_type": "code",
   "execution_count": 62,
   "id": "demanding-block",
   "metadata": {},
   "outputs": [],
   "source": [
    "#bu durumu copy() metodu ile önleyebiliriz"
   ]
  },
  {
   "cell_type": "code",
   "execution_count": 63,
   "id": "about-faith",
   "metadata": {},
   "outputs": [],
   "source": [
    "a =list()\n",
    "a.append(\"meleknaz\")"
   ]
  },
  {
   "cell_type": "code",
   "execution_count": 64,
   "id": "dated-constant",
   "metadata": {},
   "outputs": [],
   "source": [
    "b = a.copy()"
   ]
  },
  {
   "cell_type": "code",
   "execution_count": 65,
   "id": "surface-generation",
   "metadata": {},
   "outputs": [
    {
     "data": {
      "text/plain": [
       "2961428939080"
      ]
     },
     "execution_count": 65,
     "metadata": {},
     "output_type": "execute_result"
    }
   ],
   "source": [
    "id(a)"
   ]
  },
  {
   "cell_type": "code",
   "execution_count": 66,
   "id": "endangered-nitrogen",
   "metadata": {},
   "outputs": [
    {
     "data": {
      "text/plain": [
       "2961462625928"
      ]
     },
     "execution_count": 66,
     "metadata": {},
     "output_type": "execute_result"
    }
   ],
   "source": [
    "id(b)"
   ]
  },
  {
   "cell_type": "markdown",
   "id": "marked-singles",
   "metadata": {},
   "source": [
    "ikisi aynı değerlere sahip hafızanın farklı yerlerinde olan farklı list lerdir"
   ]
  },
  {
   "cell_type": "code",
   "execution_count": 67,
   "id": "virtual-korea",
   "metadata": {},
   "outputs": [
    {
     "data": {
      "text/plain": [
       "['meleknaz']"
      ]
     },
     "execution_count": 67,
     "metadata": {},
     "output_type": "execute_result"
    }
   ],
   "source": [
    "a"
   ]
  },
  {
   "cell_type": "code",
   "execution_count": 68,
   "id": "saving-vietnam",
   "metadata": {},
   "outputs": [
    {
     "data": {
      "text/plain": [
       "['meleknaz']"
      ]
     },
     "execution_count": 68,
     "metadata": {},
     "output_type": "execute_result"
    }
   ],
   "source": [
    "b"
   ]
  },
  {
   "cell_type": "code",
   "execution_count": 69,
   "id": "suspended-mercury",
   "metadata": {},
   "outputs": [
    {
     "data": {
      "text/plain": [
       "['meleknaz', '8']"
      ]
     },
     "execution_count": 69,
     "metadata": {},
     "output_type": "execute_result"
    }
   ],
   "source": [
    "a.append(\"8\")\n",
    "a"
   ]
  },
  {
   "cell_type": "code",
   "execution_count": 70,
   "id": "meaning-duplicate",
   "metadata": {},
   "outputs": [
    {
     "data": {
      "text/plain": [
       "['meleknaz']"
      ]
     },
     "execution_count": 70,
     "metadata": {},
     "output_type": "execute_result"
    }
   ],
   "source": [
    "b"
   ]
  },
  {
   "cell_type": "code",
   "execution_count": null,
   "id": "brave-pennsylvania",
   "metadata": {},
   "outputs": [],
   "source": []
  }
 ],
 "metadata": {
  "kernelspec": {
   "display_name": "Python 3",
   "language": "python",
   "name": "python3"
  },
  "language_info": {
   "codemirror_mode": {
    "name": "ipython",
    "version": 3
   },
   "file_extension": ".py",
   "mimetype": "text/x-python",
   "name": "python",
   "nbconvert_exporter": "python",
   "pygments_lexer": "ipython3",
   "version": "3.7.9"
  }
 },
 "nbformat": 4,
 "nbformat_minor": 5
}
