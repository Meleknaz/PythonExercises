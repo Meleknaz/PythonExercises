{
 "cells": [
  {
   "cell_type": "markdown",
   "id": "vietnamese-nashville",
   "metadata": {},
   "source": [
    "# Class Nedir?"
   ]
  },
  {
   "cell_type": "markdown",
   "id": "south-cliff",
   "metadata": {},
   "source": [
    "Class diğer veri yapıları kullanılarak oluşturulan yeni veri yapılarıdır.Lİst veri yapısını örnek class olarak düşünebiliriz"
   ]
  },
  {
   "cell_type": "code",
   "execution_count": 3,
   "id": "monthly-summary",
   "metadata": {},
   "outputs": [],
   "source": [
    "#sınıf oluşturmak için class anahtar kelimesi tanımlanmalı\n",
    "class User():\n",
    "    name = \"Meleknaz\"\n",
    "    age = 23"
   ]
  },
  {
   "cell_type": "markdown",
   "id": "incredible-stations",
   "metadata": {},
   "source": [
    "değerlere ulaşma"
   ]
  },
  {
   "cell_type": "code",
   "execution_count": 9,
   "id": "differential-thomas",
   "metadata": {},
   "outputs": [
    {
     "data": {
      "text/plain": [
       "'naz'"
      ]
     },
     "execution_count": 9,
     "metadata": {},
     "output_type": "execute_result"
    }
   ],
   "source": [
    "User.name"
   ]
  },
  {
   "cell_type": "code",
   "execution_count": 5,
   "id": "excellent-dallas",
   "metadata": {},
   "outputs": [
    {
     "data": {
      "text/plain": [
       "23"
      ]
     },
     "execution_count": 5,
     "metadata": {},
     "output_type": "execute_result"
    }
   ],
   "source": [
    "User.age"
   ]
  },
  {
   "cell_type": "markdown",
   "id": "outdoor-witch",
   "metadata": {},
   "source": [
    "değerleri değiştirme"
   ]
  },
  {
   "cell_type": "code",
   "execution_count": 10,
   "id": "athletic-combining",
   "metadata": {},
   "outputs": [],
   "source": [
    "User.name = \"naz\""
   ]
  },
  {
   "cell_type": "code",
   "execution_count": 11,
   "id": "final-definition",
   "metadata": {},
   "outputs": [
    {
     "data": {
      "text/plain": [
       "'naz'"
      ]
     },
     "execution_count": 11,
     "metadata": {},
     "output_type": "execute_result"
    }
   ],
   "source": [
    "User.name"
   ]
  },
  {
   "cell_type": "code",
   "execution_count": 12,
   "id": "neural-longer",
   "metadata": {},
   "outputs": [],
   "source": [
    "User.age = 22"
   ]
  },
  {
   "cell_type": "code",
   "execution_count": 13,
   "id": "palestinian-genesis",
   "metadata": {},
   "outputs": [
    {
     "data": {
      "text/plain": [
       "22"
      ]
     },
     "execution_count": 13,
     "metadata": {},
     "output_type": "execute_result"
    }
   ],
   "source": [
    "User.age"
   ]
  },
  {
   "cell_type": "code",
   "execution_count": 23,
   "id": "gentle-exhaust",
   "metadata": {},
   "outputs": [],
   "source": [
    "class Admin():\n",
    "    def __init__(self,name,age):\n",
    "        self.name = name\n",
    "        self.age = age\n",
    "        \n",
    "    def setName(self,name):\n",
    "        self.name = name"
   ]
  },
  {
   "cell_type": "code",
   "execution_count": 24,
   "id": "contrary-print",
   "metadata": {},
   "outputs": [],
   "source": [
    "melek = Admin(\"melek\",23)"
   ]
  },
  {
   "cell_type": "code",
   "execution_count": 25,
   "id": "suspected-baseline",
   "metadata": {},
   "outputs": [
    {
     "data": {
      "text/plain": [
       "'melek'"
      ]
     },
     "execution_count": 25,
     "metadata": {},
     "output_type": "execute_result"
    }
   ],
   "source": [
    "melek.name"
   ]
  },
  {
   "cell_type": "code",
   "execution_count": 26,
   "id": "informal-trinidad",
   "metadata": {},
   "outputs": [
    {
     "data": {
      "text/plain": [
       "23"
      ]
     },
     "execution_count": 26,
     "metadata": {},
     "output_type": "execute_result"
    }
   ],
   "source": [
    "melek.age"
   ]
  },
  {
   "cell_type": "code",
   "execution_count": 27,
   "id": "enabling-toner",
   "metadata": {},
   "outputs": [],
   "source": [
    "melek.setName(\"naz\")"
   ]
  },
  {
   "cell_type": "code",
   "execution_count": 28,
   "id": "random-reputation",
   "metadata": {},
   "outputs": [
    {
     "data": {
      "text/plain": [
       "'naz'"
      ]
     },
     "execution_count": 28,
     "metadata": {},
     "output_type": "execute_result"
    }
   ],
   "source": [
    "melek.name"
   ]
  },
  {
   "cell_type": "code",
   "execution_count": 29,
   "id": "electronic-belle",
   "metadata": {},
   "outputs": [],
   "source": [
    "class GamerA():\n",
    "    def __init__(self):\n",
    "        self.score = 100\n",
    "        self.power = 40\n",
    "        \n",
    "    def play(self,gamerb):\n",
    "        gamera.score -= self.power\n",
    "        #gamer.score = gamer.score - self.power"
   ]
  },
  {
   "cell_type": "code",
   "execution_count": 59,
   "id": "secret-cassette",
   "metadata": {},
   "outputs": [],
   "source": [
    "class GamerB():\n",
    "    def __init__(self):\n",
    "        self.score = 500\n",
    "        self.power = 100\n",
    "        \n",
    "    def play(self,gamera):\n",
    "        gamera.score -= self.power\n",
    "        "
   ]
  },
  {
   "cell_type": "code",
   "execution_count": 60,
   "id": "concrete-demonstration",
   "metadata": {},
   "outputs": [],
   "source": [
    "player = GamerB()"
   ]
  },
  {
   "cell_type": "code",
   "execution_count": 61,
   "id": "advanced-enterprise",
   "metadata": {},
   "outputs": [
    {
     "data": {
      "text/plain": [
       "500"
      ]
     },
     "execution_count": 61,
     "metadata": {},
     "output_type": "execute_result"
    }
   ],
   "source": [
    "player.score"
   ]
  },
  {
   "cell_type": "code",
   "execution_count": 62,
   "id": "freelance-alarm",
   "metadata": {},
   "outputs": [
    {
     "data": {
      "text/plain": [
       "100"
      ]
     },
     "execution_count": 62,
     "metadata": {},
     "output_type": "execute_result"
    }
   ],
   "source": [
    "player.power"
   ]
  },
  {
   "cell_type": "code",
   "execution_count": 63,
   "id": "developing-rainbow",
   "metadata": {},
   "outputs": [],
   "source": [
    "gamersB = []\n",
    "\n",
    "for i in range(100):\n",
    "    gamersB.append(GamerB())"
   ]
  },
  {
   "cell_type": "code",
   "execution_count": 64,
   "id": "animal-disabled",
   "metadata": {},
   "outputs": [
    {
     "data": {
      "text/plain": [
       "500"
      ]
     },
     "execution_count": 64,
     "metadata": {},
     "output_type": "execute_result"
    }
   ],
   "source": [
    "gamersB[0].score"
   ]
  },
  {
   "cell_type": "code",
   "execution_count": 65,
   "id": "historical-genre",
   "metadata": {},
   "outputs": [],
   "source": [
    "player.play(gamersB[3])"
   ]
  },
  {
   "cell_type": "code",
   "execution_count": 67,
   "id": "psychological-liberal",
   "metadata": {},
   "outputs": [
    {
     "data": {
      "text/plain": [
       "100"
      ]
     },
     "execution_count": 67,
     "metadata": {},
     "output_type": "execute_result"
    }
   ],
   "source": [
    "gamersB[3].power"
   ]
  },
  {
   "cell_type": "code",
   "execution_count": null,
   "id": "first-edgar",
   "metadata": {},
   "outputs": [],
   "source": []
  }
 ],
 "metadata": {
  "kernelspec": {
   "display_name": "Python 3",
   "language": "python",
   "name": "python3"
  },
  "language_info": {
   "codemirror_mode": {
    "name": "ipython",
    "version": 3
   },
   "file_extension": ".py",
   "mimetype": "text/x-python",
   "name": "python",
   "nbconvert_exporter": "python",
   "pygments_lexer": "ipython3",
   "version": "3.7.9"
  }
 },
 "nbformat": 4,
 "nbformat_minor": 5
}
