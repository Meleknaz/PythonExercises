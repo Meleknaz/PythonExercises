{
 "cells": [
  {
   "cell_type": "markdown",
   "id": "rubber-spokesman",
   "metadata": {},
   "source": [
    "Fonksiyonlar kullanımı ve örnekleri"
   ]
  },
  {
   "cell_type": "markdown",
   "id": "adequate-calculator",
   "metadata": {},
   "source": [
    "def anahtar sözcüğü ile tanımlanırlar\n"
   ]
  },
  {
   "cell_type": "code",
   "execution_count": 4,
   "id": "criminal-sellers",
   "metadata": {},
   "outputs": [],
   "source": [
    "#basit fonksiyon örneği tanımlama\n",
    "def f():\n",
    "    print(\"hello\")"
   ]
  },
  {
   "cell_type": "code",
   "execution_count": 5,
   "id": "dependent-participant",
   "metadata": {},
   "outputs": [
    {
     "name": "stdout",
     "output_type": "stream",
     "text": [
      "hello\n"
     ]
    }
   ],
   "source": [
    "#fonksiyonu çağırma\n",
    "f()"
   ]
  },
  {
   "cell_type": "code",
   "execution_count": 6,
   "id": "eight-upper",
   "metadata": {},
   "outputs": [
    {
     "name": "stdout",
     "output_type": "stream",
     "text": [
      "hello\n"
     ]
    }
   ],
   "source": [
    "#fonksiyonu her çağırdığımızda hello ifadesini alırız\n",
    "f()"
   ]
  },
  {
   "cell_type": "code",
   "execution_count": 7,
   "id": "mature-listing",
   "metadata": {},
   "outputs": [],
   "source": [
    "#parametreli fonksiyon örneği\n",
    "def sum(x,y):\n",
    "    sum = x+y\n",
    "    print(\"result:\",sum)"
   ]
  },
  {
   "cell_type": "code",
   "execution_count": 8,
   "id": "tired-legislation",
   "metadata": {},
   "outputs": [
    {
     "name": "stdout",
     "output_type": "stream",
     "text": [
      "result: 7\n"
     ]
    }
   ],
   "source": [
    "sum(2,5)"
   ]
  },
  {
   "cell_type": "code",
   "execution_count": 9,
   "id": "higher-consent",
   "metadata": {},
   "outputs": [
    {
     "name": "stdout",
     "output_type": "stream",
     "text": [
      "result: 11\n"
     ]
    }
   ],
   "source": [
    "sum(11,0)"
   ]
  },
  {
   "cell_type": "markdown",
   "id": "amber-thunder",
   "metadata": {},
   "source": [
    "parametre sayısı kadar eleman ile işlem yapılır,fonksiyonun parametre sayısından az ya da çok eleman ile iişlem yapılmaz hata alınır"
   ]
  },
  {
   "cell_type": "code",
   "execution_count": 10,
   "id": "frequent-blast",
   "metadata": {},
   "outputs": [
    {
     "ename": "TypeError",
     "evalue": "sum() missing 1 required positional argument: 'y'",
     "output_type": "error",
     "traceback": [
      "\u001b[1;31m---------------------------------------------------------------------------\u001b[0m",
      "\u001b[1;31mTypeError\u001b[0m                                 Traceback (most recent call last)",
      "\u001b[1;32m<ipython-input-10-2b523c4d910f>\u001b[0m in \u001b[0;36m<module>\u001b[1;34m\u001b[0m\n\u001b[1;32m----> 1\u001b[1;33m \u001b[0msum\u001b[0m\u001b[1;33m(\u001b[0m\u001b[1;36m12\u001b[0m\u001b[1;33m)\u001b[0m\u001b[1;33m\u001b[0m\u001b[1;33m\u001b[0m\u001b[0m\n\u001b[0m",
      "\u001b[1;31mTypeError\u001b[0m: sum() missing 1 required positional argument: 'y'"
     ]
    }
   ],
   "source": [
    "sum(12)"
   ]
  },
  {
   "cell_type": "code",
   "execution_count": 11,
   "id": "frank-salon",
   "metadata": {},
   "outputs": [
    {
     "ename": "TypeError",
     "evalue": "sum() takes 2 positional arguments but 4 were given",
     "output_type": "error",
     "traceback": [
      "\u001b[1;31m---------------------------------------------------------------------------\u001b[0m",
      "\u001b[1;31mTypeError\u001b[0m                                 Traceback (most recent call last)",
      "\u001b[1;32m<ipython-input-11-91d8ea3a7fc6>\u001b[0m in \u001b[0;36m<module>\u001b[1;34m\u001b[0m\n\u001b[1;32m----> 1\u001b[1;33m \u001b[0msum\u001b[0m\u001b[1;33m(\u001b[0m\u001b[1;36m1\u001b[0m\u001b[1;33m,\u001b[0m\u001b[1;36m2\u001b[0m\u001b[1;33m,\u001b[0m\u001b[1;36m3\u001b[0m\u001b[1;33m,\u001b[0m\u001b[1;36m4\u001b[0m\u001b[1;33m)\u001b[0m\u001b[1;33m\u001b[0m\u001b[1;33m\u001b[0m\u001b[0m\n\u001b[0m",
      "\u001b[1;31mTypeError\u001b[0m: sum() takes 2 positional arguments but 4 were given"
     ]
    }
   ],
   "source": [
    "sum(1,2,3,4)"
   ]
  },
  {
   "cell_type": "code",
   "execution_count": 12,
   "id": "intermediate-bidding",
   "metadata": {},
   "outputs": [],
   "source": [
    "#return kavramı"
   ]
  },
  {
   "cell_type": "markdown",
   "id": "protecting-mauritius",
   "metadata": {},
   "source": [
    "sum fonksiyonunda biz bulduğumuz sonucu print ile ekrana yazdırdık eğer return kavramı kullansaydık bize sonucu değeri ile birllikte döndürücekti.Bir örnek ile açıklamak gerekirse;\n"
   ]
  },
  {
   "cell_type": "code",
   "execution_count": 13,
   "id": "handled-apparatus",
   "metadata": {},
   "outputs": [
    {
     "name": "stdout",
     "output_type": "stream",
     "text": [
      "result: 6\n"
     ]
    },
    {
     "ename": "TypeError",
     "evalue": "unsupported operand type(s) for *: 'int' and 'NoneType'",
     "output_type": "error",
     "traceback": [
      "\u001b[1;31m---------------------------------------------------------------------------\u001b[0m",
      "\u001b[1;31mTypeError\u001b[0m                                 Traceback (most recent call last)",
      "\u001b[1;32m<ipython-input-13-ccfd3ef166fe>\u001b[0m in \u001b[0;36m<module>\u001b[1;34m\u001b[0m\n\u001b[0;32m      1\u001b[0m \u001b[1;31m#aşağıda verdiğim çarpma işlemi hata vericektir çünkü 9 integer bir değer ama sum fonksiyonu sonucu print ile ekrana yazıyor integer döndürmüyor\u001b[0m\u001b[1;33m\u001b[0m\u001b[1;33m\u001b[0m\u001b[1;33m\u001b[0m\u001b[0m\n\u001b[1;32m----> 2\u001b[1;33m \u001b[1;36m9\u001b[0m \u001b[1;33m*\u001b[0m \u001b[0msum\u001b[0m\u001b[1;33m(\u001b[0m\u001b[1;36m2\u001b[0m\u001b[1;33m,\u001b[0m\u001b[1;36m4\u001b[0m\u001b[1;33m)\u001b[0m\u001b[1;33m\u001b[0m\u001b[1;33m\u001b[0m\u001b[0m\n\u001b[0m",
      "\u001b[1;31mTypeError\u001b[0m: unsupported operand type(s) for *: 'int' and 'NoneType'"
     ]
    }
   ],
   "source": [
    "#aşağıda verdiğim çarpma işlemi hata vericektir çünkü 9 integer bir değer ama sum fonksiyonu sonucu print ile ekrana yazıyor integer döndürmüyor\n",
    "9 * sum(2,4)"
   ]
  },
  {
   "cell_type": "code",
   "execution_count": 23,
   "id": "numerical-contrary",
   "metadata": {},
   "outputs": [],
   "source": [
    "#sum() fonsiyonunu return ile tanımlayıp aynı işlemi yaparsak\n",
    "def sum(x,y):\n",
    "    sum = x+y\n",
    "    return sum"
   ]
  },
  {
   "cell_type": "code",
   "execution_count": 24,
   "id": "fitted-prediction",
   "metadata": {},
   "outputs": [
    {
     "data": {
      "text/plain": [
       "54"
      ]
     },
     "execution_count": 24,
     "metadata": {},
     "output_type": "execute_result"
    }
   ],
   "source": [
    "9 * sum(2,4)"
   ]
  },
  {
   "cell_type": "markdown",
   "id": "nuclear-attribute",
   "metadata": {},
   "source": [
    "*ags ifadesi :yukarıda tamnımladığımız sum() fonksiyonuna x ve y ile 2 parametre tanımladık, buyüzden fonksiiyonu çağırırken o iki parametreye karşılık değerler kullandık.Parametre sayısından fazla ya da eksik değerle fonksiyonu çağırıncada hata aldık.Fonksiyonlar sınırsız sayıda değer alabilir ve biz fonksiyonu *args parametresi ile tanımlarsak fonksiyonumuza istediğimiz kadar değerle ulaşabiliriz. "
   ]
  },
  {
   "cell_type": "code",
   "execution_count": 27,
   "id": "whole-reliance",
   "metadata": {},
   "outputs": [],
   "source": [
    "def fonksiyon(*args):\n",
    "    return args[0]"
   ]
  },
  {
   "cell_type": "code",
   "execution_count": 28,
   "id": "informed-weekend",
   "metadata": {},
   "outputs": [
    {
     "data": {
      "text/plain": [
       "1"
      ]
     },
     "execution_count": 28,
     "metadata": {},
     "output_type": "execute_result"
    }
   ],
   "source": [
    "fonksiyon(1,2,3)"
   ]
  },
  {
   "cell_type": "code",
   "execution_count": 4,
   "id": "collect-treasurer",
   "metadata": {},
   "outputs": [],
   "source": [
    "def sum(*args):\n",
    "    result = 0\n",
    "    for i in args:\n",
    "        result += i\n",
    "        \n",
    "    return result"
   ]
  },
  {
   "cell_type": "code",
   "execution_count": 5,
   "id": "alternative-recommendation",
   "metadata": {},
   "outputs": [
    {
     "data": {
      "text/plain": [
       "6"
      ]
     },
     "execution_count": 5,
     "metadata": {},
     "output_type": "execute_result"
    }
   ],
   "source": [
    "sum(1,2,3)"
   ]
  },
  {
   "cell_type": "code",
   "execution_count": 6,
   "id": "bound-assembly",
   "metadata": {},
   "outputs": [
    {
     "data": {
      "text/plain": [
       "33"
      ]
     },
     "execution_count": 6,
     "metadata": {},
     "output_type": "execute_result"
    }
   ],
   "source": [
    "sum(33)"
   ]
  },
  {
   "cell_type": "code",
   "execution_count": 7,
   "id": "trying-surrey",
   "metadata": {},
   "outputs": [
    {
     "data": {
      "text/plain": [
       "32"
      ]
     },
     "execution_count": 7,
     "metadata": {},
     "output_type": "execute_result"
    }
   ],
   "source": [
    "sum(12,2,6,3,0,9)"
   ]
  },
  {
   "cell_type": "code",
   "execution_count": 8,
   "id": "linear-postcard",
   "metadata": {},
   "outputs": [
    {
     "data": {
      "text/plain": [
       "0"
      ]
     },
     "execution_count": 8,
     "metadata": {},
     "output_type": "execute_result"
    }
   ],
   "source": [
    "sum()"
   ]
  },
  {
   "cell_type": "code",
   "execution_count": null,
   "id": "passive-spiritual",
   "metadata": {},
   "outputs": [],
   "source": []
  }
 ],
 "metadata": {
  "kernelspec": {
   "display_name": "Python 3",
   "language": "python",
   "name": "python3"
  },
  "language_info": {
   "codemirror_mode": {
    "name": "ipython",
    "version": 3
   },
   "file_extension": ".py",
   "mimetype": "text/x-python",
   "name": "python",
   "nbconvert_exporter": "python",
   "pygments_lexer": "ipython3",
   "version": "3.7.9"
  }
 },
 "nbformat": 4,
 "nbformat_minor": 5
}
