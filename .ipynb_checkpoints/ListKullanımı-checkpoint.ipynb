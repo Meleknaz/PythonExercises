{
 "cells": [
  {
   "cell_type": "markdown",
   "id": "gothic-variance",
   "metadata": {},
   "source": [
    "#Liste veri yapısı kullanımı örnekleri"
   ]
  },
  {
   "cell_type": "markdown",
   "id": "departmental-while",
   "metadata": {},
   "source": [
    "Listelerin 2 farklı şekilde de gösterilir."
   ]
  },
  {
   "cell_type": "code",
   "execution_count": 1,
   "id": "thirty-adobe",
   "metadata": {},
   "outputs": [],
   "source": [
    "liste = []\n",
    "# liste = list()"
   ]
  },
  {
   "cell_type": "markdown",
   "id": "comprehensive-burns",
   "metadata": {},
   "source": [
    "List metodlarına ulaşmak için dir() içerisine class'ın ismini yada nesnenin ismini yazmamız yeterlidir."
   ]
  },
  {
   "cell_type": "code",
   "execution_count": 2,
   "id": "christian-central",
   "metadata": {},
   "outputs": [
    {
     "data": {
      "text/plain": [
       "['__add__',\n",
       " '__class__',\n",
       " '__contains__',\n",
       " '__delattr__',\n",
       " '__delitem__',\n",
       " '__dir__',\n",
       " '__doc__',\n",
       " '__eq__',\n",
       " '__format__',\n",
       " '__ge__',\n",
       " '__getattribute__',\n",
       " '__getitem__',\n",
       " '__gt__',\n",
       " '__hash__',\n",
       " '__iadd__',\n",
       " '__imul__',\n",
       " '__init__',\n",
       " '__init_subclass__',\n",
       " '__iter__',\n",
       " '__le__',\n",
       " '__len__',\n",
       " '__lt__',\n",
       " '__mul__',\n",
       " '__ne__',\n",
       " '__new__',\n",
       " '__reduce__',\n",
       " '__reduce_ex__',\n",
       " '__repr__',\n",
       " '__reversed__',\n",
       " '__rmul__',\n",
       " '__setattr__',\n",
       " '__setitem__',\n",
       " '__sizeof__',\n",
       " '__str__',\n",
       " '__subclasshook__',\n",
       " 'append',\n",
       " 'clear',\n",
       " 'copy',\n",
       " 'count',\n",
       " 'extend',\n",
       " 'index',\n",
       " 'insert',\n",
       " 'pop',\n",
       " 'remove',\n",
       " 'reverse',\n",
       " 'sort']"
      ]
     },
     "execution_count": 2,
     "metadata": {},
     "output_type": "execute_result"
    }
   ],
   "source": [
    "dir(liste)\n",
    "#dir(list())"
   ]
  },
  {
   "cell_type": "markdown",
   "id": "revised-landing",
   "metadata": {},
   "source": [
    "ilk harfi alt çizgi(_) olmayan metodları listelemek"
   ]
  },
  {
   "cell_type": "code",
   "execution_count": 6,
   "id": "molecular-driver",
   "metadata": {},
   "outputs": [
    {
     "name": "stdout",
     "output_type": "stream",
     "text": [
      "append\n",
      "clear\n",
      "copy\n",
      "count\n",
      "extend\n",
      "index\n",
      "insert\n",
      "pop\n",
      "remove\n",
      "reverse\n",
      "sort\n"
     ]
    }
   ],
   "source": [
    "for i in dir(liste):\n",
    "    if i[0] != '_':\n",
    "        print(i)"
   ]
  },
  {
   "cell_type": "markdown",
   "id": "choice-payday",
   "metadata": {},
   "source": [
    "append() :listeye birşey eklemek için append() metodu ya da + operatorü kullanımı"
   ]
  },
  {
   "cell_type": "code",
   "execution_count": 17,
   "id": "incoming-shift",
   "metadata": {},
   "outputs": [],
   "source": [
    "liste.append(\"Melek\")\n",
    "#liste += [\"Melek\"]"
   ]
  },
  {
   "cell_type": "code",
   "execution_count": 18,
   "id": "silver-collins",
   "metadata": {},
   "outputs": [
    {
     "data": {
      "text/plain": [
       "['Melek']"
      ]
     },
     "execution_count": 18,
     "metadata": {},
     "output_type": "execute_result"
    }
   ],
   "source": [
    "liste"
   ]
  },
  {
   "cell_type": "code",
   "execution_count": 19,
   "id": "geological-ground",
   "metadata": {},
   "outputs": [],
   "source": [
    "liste += [\"naz\"]"
   ]
  },
  {
   "cell_type": "code",
   "execution_count": 20,
   "id": "adaptive-association",
   "metadata": {},
   "outputs": [
    {
     "data": {
      "text/plain": [
       "['Melek', 'naz']"
      ]
     },
     "execution_count": 20,
     "metadata": {},
     "output_type": "execute_result"
    }
   ],
   "source": [
    "liste"
   ]
  },
  {
   "cell_type": "markdown",
   "id": "timely-divorce",
   "metadata": {},
   "source": [
    "index() :herhangi bie ögenin listedeki kaçıncı eleman olduğunu bulma - index numarasını alma\n"
   ]
  },
  {
   "cell_type": "code",
   "execution_count": 22,
   "id": "first-cocktail",
   "metadata": {},
   "outputs": [
    {
     "data": {
      "text/plain": [
       "1"
      ]
     },
     "execution_count": 22,
     "metadata": {},
     "output_type": "execute_result"
    }
   ],
   "source": [
    "liste.index(\"naz\")"
   ]
  },
  {
   "cell_type": "code",
   "execution_count": 23,
   "id": "blocked-indianapolis",
   "metadata": {},
   "outputs": [
    {
     "data": {
      "text/plain": [
       "0"
      ]
     },
     "execution_count": 23,
     "metadata": {},
     "output_type": "execute_result"
    }
   ],
   "source": [
    "liste.index(\"Melek\")"
   ]
  },
  {
   "cell_type": "markdown",
   "id": "possible-darwin",
   "metadata": {},
   "source": [
    "listede olmayan bir elemanın index numarasını almaya çalışırsak hata alırız"
   ]
  },
  {
   "cell_type": "code",
   "execution_count": 24,
   "id": "prostate-europe",
   "metadata": {},
   "outputs": [
    {
     "ename": "ValueError",
     "evalue": "'Meleknaz' is not in list",
     "output_type": "error",
     "traceback": [
      "\u001b[1;31m---------------------------------------------------------------------------\u001b[0m",
      "\u001b[1;31mValueError\u001b[0m                                Traceback (most recent call last)",
      "\u001b[1;32m<ipython-input-24-724c97e5c7bc>\u001b[0m in \u001b[0;36m<module>\u001b[1;34m\u001b[0m\n\u001b[1;32m----> 1\u001b[1;33m \u001b[0mliste\u001b[0m\u001b[1;33m.\u001b[0m\u001b[0mindex\u001b[0m\u001b[1;33m(\u001b[0m\u001b[1;34m\"Meleknaz\"\u001b[0m\u001b[1;33m)\u001b[0m\u001b[1;33m\u001b[0m\u001b[1;33m\u001b[0m\u001b[0m\n\u001b[0m",
      "\u001b[1;31mValueError\u001b[0m: 'Meleknaz' is not in list"
     ]
    }
   ],
   "source": [
    "liste.index(\"Meleknaz\")"
   ]
  },
  {
   "cell_type": "markdown",
   "id": "listed-logging",
   "metadata": {},
   "source": [
    "append() : listeye string veya numeric elemanlar ekleme yapılabilir"
   ]
  },
  {
   "cell_type": "code",
   "execution_count": 25,
   "id": "inside-polymer",
   "metadata": {},
   "outputs": [],
   "source": [
    "liste.append(\"8\")"
   ]
  },
  {
   "cell_type": "code",
   "execution_count": 26,
   "id": "utility-ratio",
   "metadata": {},
   "outputs": [
    {
     "data": {
      "text/plain": [
       "['Melek', 'naz', '8']"
      ]
     },
     "execution_count": 26,
     "metadata": {},
     "output_type": "execute_result"
    }
   ],
   "source": [
    "liste"
   ]
  },
  {
   "cell_type": "markdown",
   "id": "distinguished-definition",
   "metadata": {},
   "source": [
    "count() :listede bulunan elemanın listedeki tekrar sayısını veriyor"
   ]
  },
  {
   "cell_type": "code",
   "execution_count": 27,
   "id": "sophisticated-ability",
   "metadata": {},
   "outputs": [],
   "source": [
    "liste.append(\"Melek\")"
   ]
  },
  {
   "cell_type": "code",
   "execution_count": 28,
   "id": "subtle-packing",
   "metadata": {},
   "outputs": [
    {
     "data": {
      "text/plain": [
       "['Melek', 'naz', '8', 'Melek']"
      ]
     },
     "execution_count": 28,
     "metadata": {},
     "output_type": "execute_result"
    }
   ],
   "source": [
    "liste"
   ]
  },
  {
   "cell_type": "code",
   "execution_count": 29,
   "id": "under-spider",
   "metadata": {},
   "outputs": [
    {
     "data": {
      "text/plain": [
       "2"
      ]
     },
     "execution_count": 29,
     "metadata": {},
     "output_type": "execute_result"
    }
   ],
   "source": [
    "liste.count(\"Melek\")"
   ]
  },
  {
   "cell_type": "code",
   "execution_count": 30,
   "id": "received-ebony",
   "metadata": {},
   "outputs": [],
   "source": [
    "liste.append(\"melek\")"
   ]
  },
  {
   "cell_type": "code",
   "execution_count": 31,
   "id": "natural-apple",
   "metadata": {},
   "outputs": [
    {
     "data": {
      "text/plain": [
       "['Melek', 'naz', '8', 'Melek', 'melek']"
      ]
     },
     "execution_count": 31,
     "metadata": {},
     "output_type": "execute_result"
    }
   ],
   "source": [
    "liste"
   ]
  },
  {
   "cell_type": "code",
   "execution_count": 32,
   "id": "skilled-reservoir",
   "metadata": {},
   "outputs": [
    {
     "data": {
      "text/plain": [
       "1"
      ]
     },
     "execution_count": 32,
     "metadata": {},
     "output_type": "execute_result"
    }
   ],
   "source": [
    "liste.count(\"melek\")"
   ]
  },
  {
   "cell_type": "markdown",
   "id": "familiar-karaoke",
   "metadata": {},
   "source": [
    "len() :listedeki toplam eleman sayısını bulur-length"
   ]
  },
  {
   "cell_type": "code",
   "execution_count": 33,
   "id": "decreased-recipient",
   "metadata": {},
   "outputs": [
    {
     "data": {
      "text/plain": [
       "5"
      ]
     },
     "execution_count": 33,
     "metadata": {},
     "output_type": "execute_result"
    }
   ],
   "source": [
    "len(liste)"
   ]
  },
  {
   "cell_type": "markdown",
   "id": "characteristic-princeton",
   "metadata": {},
   "source": [
    "listedeki her elemanın 2 index numarası bulunur yani ilk eleman hem 0. hemde -1. index dir."
   ]
  },
  {
   "cell_type": "code",
   "execution_count": 34,
   "id": "strong-genome",
   "metadata": {},
   "outputs": [
    {
     "data": {
      "text/plain": [
       "'Melek'"
      ]
     },
     "execution_count": 34,
     "metadata": {},
     "output_type": "execute_result"
    }
   ],
   "source": [
    "liste[-5]"
   ]
  },
  {
   "cell_type": "code",
   "execution_count": 35,
   "id": "romantic-pierce",
   "metadata": {},
   "outputs": [
    {
     "data": {
      "text/plain": [
       "'Melek'"
      ]
     },
     "execution_count": 35,
     "metadata": {},
     "output_type": "execute_result"
    }
   ],
   "source": [
    "liste[0]"
   ]
  },
  {
   "cell_type": "markdown",
   "id": "raised-diagnosis",
   "metadata": {},
   "source": [
    "her elemanın 2 index numarası olması özelliğini kullanarak da toplam eleman sayısını len() metodunu kullanmadan bulabiliriz"
   ]
  },
  {
   "cell_type": "code",
   "execution_count": 36,
   "id": "valuable-state",
   "metadata": {},
   "outputs": [
    {
     "data": {
      "text/plain": [
       "5"
      ]
     },
     "execution_count": 36,
     "metadata": {},
     "output_type": "execute_result"
    }
   ],
   "source": [
    "liste.index(liste[-1]) +1"
   ]
  },
  {
   "cell_type": "markdown",
   "id": "documentary-sunrise",
   "metadata": {},
   "source": [
    "listeden eleman çıkarma işlemleri\n",
    "pop() : bu metod ile listenin son eleamanını listeden çıkarmış oluruz - son eleman return edildiği için listeden çıkarıldığında ekrana geliyor "
   ]
  },
  {
   "cell_type": "code",
   "execution_count": 37,
   "id": "virtual-nightmare",
   "metadata": {},
   "outputs": [
    {
     "data": {
      "text/plain": [
       "['Melek', 'naz', '8', 'Melek', 'melek']"
      ]
     },
     "execution_count": 37,
     "metadata": {},
     "output_type": "execute_result"
    }
   ],
   "source": [
    "liste"
   ]
  },
  {
   "cell_type": "code",
   "execution_count": 38,
   "id": "weird-officer",
   "metadata": {},
   "outputs": [
    {
     "data": {
      "text/plain": [
       "'melek'"
      ]
     },
     "execution_count": 38,
     "metadata": {},
     "output_type": "execute_result"
    }
   ],
   "source": [
    "liste.pop()"
   ]
  },
  {
   "cell_type": "code",
   "execution_count": 39,
   "id": "bound-today",
   "metadata": {},
   "outputs": [
    {
     "data": {
      "text/plain": [
       "['Melek', 'naz', '8', 'Melek']"
      ]
     },
     "execution_count": 39,
     "metadata": {},
     "output_type": "execute_result"
    }
   ],
   "source": [
    "liste"
   ]
  },
  {
   "cell_type": "markdown",
   "id": "infectious-alarm",
   "metadata": {},
   "source": [
    "remove() :bu metod ile listeden eleman silerken siliceğimiz ögeyi belirtmemiz gerekir, ayrıca bu metod eleman silerken ekrana herhangi birşey yazmaz"
   ]
  },
  {
   "cell_type": "code",
   "execution_count": 40,
   "id": "constant-butler",
   "metadata": {},
   "outputs": [
    {
     "data": {
      "text/plain": [
       "['Melek', 'naz', '8', 'Melek']"
      ]
     },
     "execution_count": 40,
     "metadata": {},
     "output_type": "execute_result"
    }
   ],
   "source": [
    "liste"
   ]
  },
  {
   "cell_type": "code",
   "execution_count": 41,
   "id": "referenced-fifty",
   "metadata": {},
   "outputs": [],
   "source": [
    "liste.remove(\"Melek\")"
   ]
  },
  {
   "cell_type": "code",
   "execution_count": 42,
   "id": "advanced-abortion",
   "metadata": {},
   "outputs": [
    {
     "data": {
      "text/plain": [
       "['naz', '8', 'Melek']"
      ]
     },
     "execution_count": 42,
     "metadata": {},
     "output_type": "execute_result"
    }
   ],
   "source": [
    "liste"
   ]
  },
  {
   "cell_type": "markdown",
   "id": "periodic-monitoring",
   "metadata": {},
   "source": [
    "copy() :değişkenlerde x=y şeklinde atama işlemi yaptığımızda x'e y'nin işaret ettiği yerdeki eleman atanır, x ve y üzerinde işlem yapıldığınde herhangi bir etkileşim bağlantı olmaz ayrı iki değişken olarak devam ederler aynı işlem class ile yapıldığında farklı sonuç verir. Yani x ve y class ise x=y işleminden sonra x ile y aynı özellikleri gösteren aynı class lardır.Bu yüzden class ifadelerinde copy() metodu kullanılır"
   ]
  },
  {
   "cell_type": "code",
   "execution_count": 43,
   "id": "outdoor-appendix",
   "metadata": {},
   "outputs": [
    {
     "data": {
      "text/plain": [
       "5"
      ]
     },
     "execution_count": 43,
     "metadata": {},
     "output_type": "execute_result"
    }
   ],
   "source": [
    "# x ve y değişkenlerinde yaptığımız bu işlemle ynin değerini 5 yaparız\n",
    "x = 5\n",
    "y = x\n",
    "y"
   ]
  },
  {
   "cell_type": "code",
   "execution_count": 44,
   "id": "agreed-rocket",
   "metadata": {},
   "outputs": [],
   "source": [
    "#fakat x ile y arasında hiçbir bağlantı olmaz"
   ]
  },
  {
   "cell_type": "code",
   "execution_count": 45,
   "id": "convertible-bloom",
   "metadata": {},
   "outputs": [
    {
     "data": {
      "text/plain": [
       "140703664415248"
      ]
     },
     "execution_count": 45,
     "metadata": {},
     "output_type": "execute_result"
    }
   ],
   "source": [
    "id(x)"
   ]
  },
  {
   "cell_type": "code",
   "execution_count": 46,
   "id": "instant-improvement",
   "metadata": {},
   "outputs": [
    {
     "data": {
      "text/plain": [
       "140703664415248"
      ]
     },
     "execution_count": 46,
     "metadata": {},
     "output_type": "execute_result"
    }
   ],
   "source": [
    "id(y)"
   ]
  },
  {
   "cell_type": "code",
   "execution_count": 47,
   "id": "false-greece",
   "metadata": {},
   "outputs": [],
   "source": [
    "#hafızadaki aynı konumu işaret edttikleri için id leri aynıdır fakat y nin elemanını değiştirisek ya da x in, id leride değişir"
   ]
  },
  {
   "cell_type": "code",
   "execution_count": 48,
   "id": "suited-bryan",
   "metadata": {},
   "outputs": [],
   "source": [
    "y=8"
   ]
  },
  {
   "cell_type": "code",
   "execution_count": 49,
   "id": "double-sunday",
   "metadata": {},
   "outputs": [
    {
     "data": {
      "text/plain": [
       "140703664415344"
      ]
     },
     "execution_count": 49,
     "metadata": {},
     "output_type": "execute_result"
    }
   ],
   "source": [
    "id(y)"
   ]
  },
  {
   "cell_type": "code",
   "execution_count": 50,
   "id": "cellular-resource",
   "metadata": {},
   "outputs": [
    {
     "data": {
      "text/plain": [
       "140703664415248"
      ]
     },
     "execution_count": 50,
     "metadata": {},
     "output_type": "execute_result"
    }
   ],
   "source": [
    "id(x)"
   ]
  },
  {
   "cell_type": "code",
   "execution_count": 51,
   "id": "french-course",
   "metadata": {},
   "outputs": [],
   "source": [
    "#ama bu durum class lar için aynı değildir"
   ]
  },
  {
   "cell_type": "code",
   "execution_count": 52,
   "id": "identical-brunei",
   "metadata": {},
   "outputs": [],
   "source": [
    "#bu sefer x'i bir class olarak tanımlarsak ve işlemleri tekrarlarsak sonuç değişecektir\n",
    "x = list()\n",
    "x.append(\"meleknaz\")"
   ]
  },
  {
   "cell_type": "code",
   "execution_count": 53,
   "id": "common-religion",
   "metadata": {},
   "outputs": [],
   "source": [
    "y = x"
   ]
  },
  {
   "cell_type": "code",
   "execution_count": 54,
   "id": "secure-elizabeth",
   "metadata": {},
   "outputs": [
    {
     "data": {
      "text/plain": [
       "['meleknaz']"
      ]
     },
     "execution_count": 54,
     "metadata": {},
     "output_type": "execute_result"
    }
   ],
   "source": [
    "x"
   ]
  },
  {
   "cell_type": "code",
   "execution_count": 55,
   "id": "fiscal-presence",
   "metadata": {},
   "outputs": [
    {
     "data": {
      "text/plain": [
       "['meleknaz']"
      ]
     },
     "execution_count": 55,
     "metadata": {},
     "output_type": "execute_result"
    }
   ],
   "source": [
    "y"
   ]
  },
  {
   "cell_type": "code",
   "execution_count": 56,
   "id": "controlled-debut",
   "metadata": {},
   "outputs": [],
   "source": [
    "#şimdi sadece x e ekleme işlemi yapıp y ye değişiklik yapmassak, ynin de x ile birlikte değiştiğini gözlemlicez"
   ]
  },
  {
   "cell_type": "code",
   "execution_count": 57,
   "id": "enabling-bahamas",
   "metadata": {},
   "outputs": [],
   "source": [
    "x.append(\"8\")"
   ]
  },
  {
   "cell_type": "code",
   "execution_count": 58,
   "id": "biological-logic",
   "metadata": {},
   "outputs": [
    {
     "data": {
      "text/plain": [
       "['meleknaz', '8']"
      ]
     },
     "execution_count": 58,
     "metadata": {},
     "output_type": "execute_result"
    }
   ],
   "source": [
    "x"
   ]
  },
  {
   "cell_type": "code",
   "execution_count": 59,
   "id": "central-membrane",
   "metadata": {},
   "outputs": [
    {
     "data": {
      "text/plain": [
       "['meleknaz', '8']"
      ]
     },
     "execution_count": 59,
     "metadata": {},
     "output_type": "execute_result"
    }
   ],
   "source": [
    "y"
   ]
  },
  {
   "cell_type": "code",
   "execution_count": 60,
   "id": "typical-danish",
   "metadata": {},
   "outputs": [
    {
     "data": {
      "text/plain": [
       "2961463884104"
      ]
     },
     "execution_count": 60,
     "metadata": {},
     "output_type": "execute_result"
    }
   ],
   "source": [
    "id(x)"
   ]
  },
  {
   "cell_type": "code",
   "execution_count": 61,
   "id": "divine-europe",
   "metadata": {},
   "outputs": [
    {
     "data": {
      "text/plain": [
       "2961463884104"
      ]
     },
     "execution_count": 61,
     "metadata": {},
     "output_type": "execute_result"
    }
   ],
   "source": [
    "id(y)"
   ]
  },
  {
   "cell_type": "code",
   "execution_count": 62,
   "id": "acoustic-science",
   "metadata": {},
   "outputs": [],
   "source": [
    "#bu durumu copy() metodu ile önleyebiliriz"
   ]
  },
  {
   "cell_type": "code",
   "execution_count": 63,
   "id": "hairy-malpractice",
   "metadata": {},
   "outputs": [],
   "source": [
    "a =list()\n",
    "a.append(\"meleknaz\")"
   ]
  },
  {
   "cell_type": "code",
   "execution_count": 64,
   "id": "sufficient-museum",
   "metadata": {},
   "outputs": [],
   "source": [
    "b = a.copy()"
   ]
  },
  {
   "cell_type": "code",
   "execution_count": 65,
   "id": "nasty-seattle",
   "metadata": {},
   "outputs": [
    {
     "data": {
      "text/plain": [
       "2961428939080"
      ]
     },
     "execution_count": 65,
     "metadata": {},
     "output_type": "execute_result"
    }
   ],
   "source": [
    "id(a)"
   ]
  },
  {
   "cell_type": "code",
   "execution_count": 66,
   "id": "derived-assignment",
   "metadata": {},
   "outputs": [
    {
     "data": {
      "text/plain": [
       "2961462625928"
      ]
     },
     "execution_count": 66,
     "metadata": {},
     "output_type": "execute_result"
    }
   ],
   "source": [
    "id(b)"
   ]
  },
  {
   "cell_type": "markdown",
   "id": "constant-wedding",
   "metadata": {},
   "source": [
    "ikisi aynı değerlere sahip hafızanın farklı yerlerinde olan farklı list lerdir"
   ]
  },
  {
   "cell_type": "code",
   "execution_count": 67,
   "id": "employed-study",
   "metadata": {},
   "outputs": [
    {
     "data": {
      "text/plain": [
       "['meleknaz']"
      ]
     },
     "execution_count": 67,
     "metadata": {},
     "output_type": "execute_result"
    }
   ],
   "source": [
    "a"
   ]
  },
  {
   "cell_type": "code",
   "execution_count": 68,
   "id": "divided-bathroom",
   "metadata": {},
   "outputs": [
    {
     "data": {
      "text/plain": [
       "['meleknaz']"
      ]
     },
     "execution_count": 68,
     "metadata": {},
     "output_type": "execute_result"
    }
   ],
   "source": [
    "b"
   ]
  },
  {
   "cell_type": "code",
   "execution_count": 69,
   "id": "lesser-mozambique",
   "metadata": {},
   "outputs": [
    {
     "data": {
      "text/plain": [
       "['meleknaz', '8']"
      ]
     },
     "execution_count": 69,
     "metadata": {},
     "output_type": "execute_result"
    }
   ],
   "source": [
    "a.append(\"8\")\n",
    "a"
   ]
  },
  {
   "cell_type": "code",
   "execution_count": 70,
   "id": "specified-denial",
   "metadata": {},
   "outputs": [
    {
     "data": {
      "text/plain": [
       "['meleknaz']"
      ]
     },
     "execution_count": 70,
     "metadata": {},
     "output_type": "execute_result"
    }
   ],
   "source": [
    "b"
   ]
  },
  {
   "cell_type": "code",
   "execution_count": null,
   "id": "yellow-foster",
   "metadata": {},
   "outputs": [],
   "source": []
  }
 ],
 "metadata": {
  "kernelspec": {
   "display_name": "Python 3",
   "language": "python",
   "name": "python3"
  },
  "language_info": {
   "codemirror_mode": {
    "name": "ipython",
    "version": 3
   },
   "file_extension": ".py",
   "mimetype": "text/x-python",
   "name": "python",
   "nbconvert_exporter": "python",
   "pygments_lexer": "ipython3",
   "version": "3.7.9"
  }
 },
 "nbformat": 4,
 "nbformat_minor": 5
}
